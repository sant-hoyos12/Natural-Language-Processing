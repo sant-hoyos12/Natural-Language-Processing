{
 "cells": [
  {
   "cell_type": "markdown",
   "id": "574fe49c-0488-46f7-8073-36b71989aac2",
   "metadata": {
    "tags": []
   },
   "source": [
    "## Task: Extract Features From Dataset   (40 Marks)\n",
    "\n",
    "Use **NLTK** to extract **features** from the **Toxic Comments** dataset.\\\n",
    "The **features** will be used to train various Machine Learning models to identify toxic comments.\n",
    "\n",
    "Possible **features** to extract:\n",
    "* check if a word is in a list of swear words, or a list of words that are hate speech\n",
    "* check if punctuation is used in the *body* of a word rather than at the end of the sentence\n",
    "* check if words such as `a$$` are used where letters are replaced by visually similar symbols\n",
    "* sentence length i.e., how many words a sentence has\n",
    "* average word length in a sentence\n",
    "* unusually high number of exclamation marks, which could represent the author being frustrated or angry\n",
    "* etc.\n",
    "\n",
    "\n",
    "### Transforming Data Into Features\n",
    "\n",
    "We represent the data as matrices/vectors. So we are transforming the dataset into a matrix representation. None of the models accept text input! Example:\\\n",
    "`X = [[0, 0], [1, 3], [2, 0], [3, 1]]`\\\n",
    "`Y = [0, 1, 2, 3]`\n",
    "\n",
    "`X` is a features matrix.\n",
    "`Y` is a matrix of the target classes/output the model is trying to predict. In this case we have four classes `[0, 1, 2, 3]`. The actual classes could be non-toxic, toxic, very toxic, and extremely toxic, but we have to replace them by a number.\n",
    "\n",
    "In `X` we have four samples/datapoints/examples, the first being `[0, 0]`. Each column in the sample corresponds to a feature.\\\n",
    "For example, the first column could be number of swear words in comment and the 2nd column could be percentage of capitalized letters in a comment. In matrix entry form:\\\n",
    "`[number of swear words in comment, percentage of capitalized letters in a comment]`\\\n",
    "Thus `[0, 0]` would correspond to a comment with zero swear words and zero capitalized letters.\n",
    "\n",
    "\n",
    "### Rubric\n",
    "\n",
    "We will be evaluating this section in part by how clever your choice of features were (and that you were able to extract them).\n",
    "Simple sets of features may not be as informative as complex setds of features, but simple features are easier to extract from a dataset compared to complex features.\n",
    "\n",
    "A breakdown of the marking for this task:\n",
    "* [**10 marks**] basic features gathered (trivial)\n",
    "* [**25 marks**] quality features gathered (advanced), corresponding to unusual features or clever features most would not have considered\n",
    "* [**5 marks**] formatting the features and output correctly so it can be used immediately downstream for the machine learning classifiers without any further preprocessing needing to be done at that stage"
   ]
  },
  {
   "cell_type": "code",
   "execution_count": null,
   "id": "bcbeb03d-2d9c-462e-946a-6739a051fd6f",
   "metadata": {},
   "outputs": [],
   "source": [
    "# EXAMPLE CODE: check if a word is in a list of words\n",
    "list_of_words = [\"house\", \"hat\", \"war\"]\n",
    "word = \"hat\"\n",
    "print(\"Is 'hat' in the wordlist?\", word in list_of_words)\n",
    "\n",
    "word = \"Hat\"\n",
    "print(\"Is 'Hat' in the wordlist?\", word in list_of_words)"
   ]
  },
  {
   "cell_type": "code",
   "execution_count": null,
   "id": "bbad27fd-292e-46c7-839f-354ac366919e",
   "metadata": {},
   "outputs": [],
   "source": [
    "# EXAMPLE CODE: check if a character is in a list of characters\n",
    "character_string = '?.\",!@$%^&*()\\n' # using a String as if it were a list\n",
    "character = \"?\"\n",
    "print(\"Is '?' in the characterlist?\", character in character_string)\n",
    "\n",
    "character = \"\\n\"\n",
    "print(\"Is '\\\\n' (newline) in the characterlist?\", character in character_string)"
   ]
  },
  {
   "cell_type": "code",
   "execution_count": null,
   "id": "c35dae9c-6929-4568-8e9e-ce3e1dd750b1",
   "metadata": {},
   "outputs": [],
   "source": [
    "# EXAMPLE CODE: for more code fragments that may be useful\n",
    "#               check the Discord server (I will not be adding new snippets to this Task here)"
   ]
  },
  {
   "cell_type": "markdown",
   "id": "2122e537-b8bf-4ffb-8a7b-b4ce3df3a7ad",
   "metadata": {},
   "source": [
    "<div class=\"alert alert-danger\">\n",
    "    <h4>WRITE CODE</h4>\n",
    "    In the cell below, write the code that extracts features from the dataset.\n",
    "</div>"
   ]
  },
  {
   "cell_type": "code",
   "execution_count": null,
   "id": "3ea231bf-3fee-486d-a0ac-5414717fd61d",
   "metadata": {},
   "outputs": [],
   "source": [
    "# YOUR CODE IN THIS CELL\n",
    "raise NotImplementedError() # Remove this after you have started implementing your code below\n",
    "\n",
    "# read dataset from file\n",
    "\n",
    "\n",
    "# iterate over each data sample in the dataset\n",
    "#     extract features from each data sample\n",
    "\n",
    "\n",
    "# prepare the features in the correct format\n",
    "\n",
    "\n",
    "# normalize/scale the features and outputs in the range [0-1]\n",
    "#     note that each model may have a different set of requirements as to how it expects its input\n",
    "\n",
    "\n",
    "# prepare output values in the correct format\n",
    "# For classification the output will be categories such as [toxic, non_toxic, severe_toxic, ...]\n",
    "#     the classification models want these categories represented as integer values which correspond to the original\n",
    "#     categories, such as [0, 1, 2, ...] where 0=toxic, 1=non_toxic, 2=severe_toxic, ...\n"
   ]
  },
  {
   "cell_type": "markdown",
   "id": "b496bf53-1b24-4b5f-a9da-cc23b8f74a00",
   "metadata": {},
   "source": [
    "----\n",
    "<div class=\"alert alert-info\">\n",
    "    <h4>PRO TIP</h4>\n",
    "    Classifiers take two arrays as input: <strong>array X</strong> and <strong>array y</strong>.</br>\n",
    "    <strong>array X</strong> has shape <tt>(number_of_samples, number_of_features)</tt> containing the training samples feature data</br>\n",
    "    <strong>array y</strong> of class labels/outputs (strings or integers) has shape <tt>(number_of_samples)</tt></p>\n",
    "    <p></p>\n",
    "    <p style=\"text-indent:0px\"><tt>print(photos.shape, labels.shape)</br>\n",
    "    num_samples = labels.shape[0]<br>\n",
    "    x = np.reshape(photos, (num_samples, -1))<tt></p>\n",
    "</div>"
   ]
  },
  {
   "cell_type": "markdown",
   "id": "6362c59e-1ddc-496a-9024-ba06b2bb177b",
   "metadata": {
    "jp-MarkdownHeadingCollapsed": true,
    "tags": []
   },
   "source": [
    "## Task: Decision Tree   (5 Marks)\n",
    "\n",
    "Build a *decision tree* model to identify toxic comments.\n",
    "\n",
    "From Norvig & Russel's \"*AI: A Modern Approach*\" (pg. 707, 3rd ed.):\n",
    "> In many areas of industry and commerce, decision trees are usually the first method tried when a classification method is to be extracted from a data set. One important property of decision trees is that it is possible for a human to understand the reason for the output of the learning algorithm. (Indeed, this is a legal requirement for financial decisions that are subject to anti-discrimination laws.) This is a property not shared by some other representations, such as neural networks.\n",
    "\n",
    "From https://scikit-learn.org/stable/modules/tree.html:\n",
    "> `DecisionTreeClassifier` is capable of both:\n",
    "> * **binary classification** where the labels are `[-1, 1]`\n",
    "> * **multiclass classification** where the labels are `[0, ..., K-1]`\n",
    "\n",
    "\n",
    "### Type Of Task We Are Working With\n",
    "\n",
    "Note our task isn't a **classification** task (i.e., predicting a *discrete* value) but a **regression** task (i.e., predicting a *continuous* value). We could pursue one of two approaches:\n",
    "* keep the task as a regression task and use regression versions for each model (e.g., *decision tree regression*, *SVM for regression*, *neural network for regression*, etc.)\n",
    "* convert the regression task into a classification task where we are predicting a range of values rather than a specific value (i.e., discretizing the output space)\n",
    "\n",
    "To discretize the output we are predicting (i.e., convert a continuous value into a set of points/classes/categories), instead of predicting the temperature from 0 degrees Fahrenheit to 100 degrees Fahrenheit, we predict a temperature range:\n",
    "* **freezing** (0 degrees to 20 degrees Fahrenheit)\n",
    "* **cold** (20 degrees to 40 degrees Fahrenheit)\n",
    "* **moderate** (40 degrees to 60 degrees Fahrenheit)\n",
    "* **warm** (60 degrees to 80 degrees Fahrenheit)\n",
    "* **hot** (80 degrees to 100 degrees Fahrenheit)\n",
    "\n",
    "which transforms the regression problem into a 5-class classification task."
   ]
  },
  {
   "cell_type": "markdown",
   "id": "95089c7a-f618-4671-8e57-9a477f56a315",
   "metadata": {},
   "source": [
    "### Decision Trees For Classification\n",
    "\n",
    "Example code for a **Decision Tree** performing classification. The **Decision Tree** model is predicting one category from a set of categories, such as which genre a film belongs to (`Horror`, `Comedy`, `Action`, etc.):"
   ]
  },
  {
   "cell_type": "code",
   "execution_count": null,
   "id": "8560355a-3cd8-4137-92b1-21f02198c805",
   "metadata": {},
   "outputs": [],
   "source": [
    "# EXAMPLE CODE: COMMENT OUT THIS CODE CELL AFTER IMPLEMENTING YOUR CODE BELOW\n",
    "from sklearn import tree\n",
    "\n",
    "X = [[0, 0, -1], [1, 1, 1], [1, 10, 9], [-3, 0, 33]]\n",
    "Y = [0, 1, 4, 1]\n",
    "\n",
    "# DecisionTreeClassifier takes as input two arrays: X & Y\n",
    "#    an array X, sparse or dense, of shape (number_of_samples, number_of_features) holding the training samples\n",
    "#    and an array Y of integer values, of shape (number_of_samples) holding the class labels for the training samples\n",
    "clf = tree.DecisionTreeClassifier()\n",
    "\n",
    "# train the decision tree classifier model\n",
    "clf = clf.fit(X, Y)\n",
    "\n",
    "# after being fitted, predict from a new set of samples\n",
    "clf.predict([[2., 2., 10.]])\n",
    "\n",
    "\n",
    "# plot a visualization of the decision tree\n",
    "tree.plot_tree(clf)\n",
    "\n",
    "\n",
    "# a text visualization of the decision tree\n",
    "from sklearn.tree import export_text\n",
    "text_tree = export_text(clf, feature_names=[\"First Feature\", \"Height Feature\", \"Salary Feature\"])\n",
    "print(\"Text visualization of decision tree:\\n\", text_tree)"
   ]
  },
  {
   "cell_type": "markdown",
   "id": "df590be3-a107-4399-b79e-ebfca3b6cf15",
   "metadata": {},
   "source": [
    "### Decision Trees For Regression\n",
    "\n",
    "Regression using **Decision Trees** is [found here](https://scikit-learn.org/stable/modules/tree.html#regression).\n",
    "\n",
    "Example code of a **Decision Tree** for regression (where the **Decision Tree** model is predicting a continuous value):"
   ]
  },
  {
   "cell_type": "code",
   "execution_count": null,
   "id": "6b8db8bf-3ab7-4612-8fd1-4aa1bd791e51",
   "metadata": {},
   "outputs": [],
   "source": [
    "# EXAMPLE CODE: COMMENT OUT THIS CODE CELL AFTER IMPLEMENTING YOUR CODE BELOW\n",
    "# code from https://scikit-learn.org/stable/modules/tree.html#regression\n",
    "\n",
    "from sklearn import tree\n",
    "\n",
    "X = [[0, 0], [2, 2]]\n",
    "y = [0.5, 2.5]\n",
    "\n",
    "\n",
    "clf = tree.DecisionTreeRegressor()\n",
    "\n",
    "# train the decision tree regression model\n",
    "clf = clf.fit(X, y)\n",
    "\n",
    "# after being fitted, predict from a new set of samples\n",
    "clf.predict([[1, 1]])\n",
    "\n",
    "# plot a visualization of the decision tree\n",
    "tree.plot_tree(clf)"
   ]
  },
  {
   "cell_type": "markdown",
   "id": "bd1689ef-d3d7-443f-844e-abb627da153f",
   "metadata": {},
   "source": [
    "<div class=\"alert alert-danger\">\n",
    "    <h4>WRITE CODE</h4>\n",
    "    In the cell below, write the code that implements a Decision Tree classifier.\n",
    "</div>"
   ]
  },
  {
   "cell_type": "code",
   "execution_count": null,
   "id": "b54a755e-41ef-4a0d-b0fc-85666a37febc",
   "metadata": {},
   "outputs": [],
   "source": [
    "# YOUR CODE IN THIS CELL\n",
    "raise NotImplementedError() # Remove this after you have started implementing your code below\n",
    "\n",
    "# Train the model\n",
    "\n",
    "\n",
    "# Evaluate the model\n"
   ]
  },
  {
   "cell_type": "markdown",
   "id": "f3977e62-f633-4058-bdca-2911a1fe61cf",
   "metadata": {
    "jp-MarkdownHeadingCollapsed": true,
    "tags": []
   },
   "source": [
    "----\n",
    "## Task: SVM Classifier   (5 Marks)\n",
    "\n",
    "Build an [SVM classifier](https://scikit-learn.org/stable/modules/svm.html#classification) that identifies toxic comments.\\\n",
    "Use the **SVM**'s default parameters."
   ]
  },
  {
   "cell_type": "code",
   "execution_count": null,
   "id": "eae63000-79a2-49ec-9de4-1c231cc3fd4a",
   "metadata": {},
   "outputs": [],
   "source": [
    "# EXAMPLE CODE: COMMENT OUT THIS CODE CELL AFTER IMPLEMENTING YOUR CODE BELOW\n",
    "# Code from: https://scikit-learn.org/stable/modules/svm.html#classification\n",
    "\n",
    "from sklearn import svm\n",
    "\n",
    "# the dataset  X:features, y:output values we are trying to predict\n",
    "X = [[0.0, 0], [1.2, 1]]\n",
    "y = [0, 1]\n",
    "\n",
    "clf = svm.SVC()\n",
    "\n",
    "# train the model\n",
    "clf.fit(X, y)\n",
    "\n",
    "# after being fitted, predict new values\n",
    "clf.predict([[2., 2.]])"
   ]
  },
  {
   "cell_type": "markdown",
   "id": "d4c6eaf6-02da-470a-b435-91e6918ea685",
   "metadata": {},
   "source": [
    "**SVM** for regression:"
   ]
  },
  {
   "cell_type": "code",
   "execution_count": null,
   "id": "7965fc32-0c4e-45ac-b29b-7148463a6858",
   "metadata": {},
   "outputs": [],
   "source": [
    "# EXAMPLE CODE: COMMENT OUT THIS CODE CELL AFTER IMPLEMENTING YOUR CODE BELOW\n",
    "# Code from: https://scikit-learn.org/stable/modules/svm.html#regression\n",
    "\n",
    "from sklearn import svm\n",
    "\n",
    "# the dataset  X:features, y:output values we are trying to predict\n",
    "X = [[0, 0], [1, 1]]\n",
    "y = [0, 1.2]\n",
    "\n",
    "clf = svm.SVR()\n",
    "\n",
    "# train the model\n",
    "clf.fit(X, y)\n",
    "\n",
    "# after being fitted, predict new values\n",
    "clf.predict([[2., 2.]])"
   ]
  },
  {
   "cell_type": "markdown",
   "id": "5c13330c-177a-4700-9fe8-b9b623ccfa45",
   "metadata": {},
   "source": [
    "<div class=\"alert alert-danger\">\n",
    "    <h4>WRITE CODE</h4>\n",
    "    In the cell below, write the code that implements an SVM classifier.\n",
    "</div>"
   ]
  },
  {
   "cell_type": "code",
   "execution_count": null,
   "id": "c3c5a384-6e2b-4724-9f8c-e9fc623773a6",
   "metadata": {},
   "outputs": [],
   "source": [
    "# YOUR CODE IN THIS CELL\n",
    "raise NotImplementedError() # Remove this after you have started implementing your code below\n",
    "\n",
    "# Train the model\n",
    "\n",
    "\n",
    "# Evaluate the model\n",
    "\n"
   ]
  },
  {
   "cell_type": "markdown",
   "id": "e825695a-70ba-4c2c-b7f8-f832edbfdcce",
   "metadata": {
    "jp-MarkdownHeadingCollapsed": true,
    "tags": []
   },
   "source": [
    "----\n",
    "## Task: Language Model   (20 Marks)\n",
    "\n",
    "Build a *language model* to identify toxic comments.\\\n",
    "Recall that language models can be built using n-grams.\\\n",
    "Also refer to **Chapter 3** in \"[*Speech and Language Processing*](https://web.stanford.edu/~jurafsky/slp3)\" (freely available textbook!) by Jurafsky & Martin for explanations of **N-gram Language Models**.\n",
    "\n",
    "Construct a **Tri-gram** language model with **backoff smoothing**.\\\n",
    "Refer to **Quiz #4** for insights into **n-gram** language models.\n",
    "\n",
    "A breakdown of the marking for this task:\n",
    "* [**15 marks**] trigram language model implemented\n",
    "* [**5 marks**] back-off smoothing implemented"
   ]
  },
  {
   "cell_type": "code",
   "execution_count": null,
   "id": "0a6430d2-def8-4da9-ba7b-6701e1d942f5",
   "metadata": {},
   "outputs": [],
   "source": [
    "# refer to Quiz #4 for help with n-gram language models"
   ]
  },
  {
   "cell_type": "markdown",
   "id": "f7f13fe6-37d1-4d2b-afb5-0d9f4e03868c",
   "metadata": {},
   "source": [
    "<div class=\"alert alert-danger\">\n",
    "    <h4>WRITE CODE</h4>\n",
    "    In the cell below, write the code that implements a Tri-gram Language Model.\n",
    "</div>"
   ]
  },
  {
   "cell_type": "code",
   "execution_count": null,
   "id": "9abf8031-12c5-46cc-9b4f-bcbda5ad0839",
   "metadata": {},
   "outputs": [],
   "source": [
    "# YOUR CODE IN THIS CELL\n",
    "raise NotImplementedError() # Remove this after you have started implementing your code below\n",
    "\n",
    "# Create a Trigram language model\n",
    "\n",
    "\n",
    "# Create a Bigram language model\n",
    "\n",
    "\n",
    "# Create a Unigram language model\n",
    "\n",
    "\n",
    "# Compute the probability a comment is toxic\n",
    "\n",
    "\n",
    "# Evaluate the model\n"
   ]
  },
  {
   "cell_type": "markdown",
   "id": "2c1b8526-2c08-43f6-9574-9d0d20db7d80",
   "metadata": {
    "jp-MarkdownHeadingCollapsed": true,
    "tags": []
   },
   "source": [
    "----\n",
    "## Task: Random Forest Model   (5 Marks)\n",
    "\n",
    "Build a *random forest model* to identify toxic comments.\n",
    "\n",
    "### Random Forest Classifier\n",
    "\n",
    "The **scikit-learn** implementation of **Random Forest** \"*combines classifiers by averaging their probabilistic prediction, instead of letting each classifier vote for a single class*\".\\\n",
    "Code examples for implementing a **Random Forest Classifier** is [here](https://scikit-learn.org/stable/modules/ensemble.html#forest).\\\n",
    "API information on **Random Forest Classifiers** is [here](https://scikit-learn.org/stable/modules/generated/sklearn.ensemble.RandomForestClassifier.html#sklearn.ensemble.RandomForestClassifier).\n",
    "\n",
    "\n",
    "### Random Forest Regressor\n",
    "\n",
    "A **Random Forest** model for a regression task is conceptually identical to the classifier version above.\n",
    "\n",
    "\n",
    "### Implementation\n",
    "\n",
    "Using **scikit-learn**, create a **Random Forest** model consisting of the following parameters (model parameters not specified can be left to their default values):\n",
    "* number of estimators = 100\n",
    "\n",
    "\n",
    "**Random Forest** for classification:"
   ]
  },
  {
   "cell_type": "code",
   "execution_count": null,
   "id": "d8bd7821-c669-475c-937e-b60a97e287c6",
   "metadata": {},
   "outputs": [],
   "source": [
    "# EXAMPLE CODE: COMMENT OUT THIS CODE CELL AFTER IMPLEMENTING YOUR CODE BELOW\n",
    "# Code from: https://scikit-learn.org/stable/modules/ensemble.html#forest\n",
    "# Classification\n",
    "\n",
    "from sklearn.ensemble import RandomForestClassifier\n",
    "\n",
    "X = [[0, 0], [1, 1]]\n",
    "Y = [0, 1]\n",
    "\n",
    "clf = RandomForestClassifier(n_estimators=10)\n",
    "\n",
    "clf = clf.fit(X, Y)"
   ]
  },
  {
   "cell_type": "markdown",
   "id": "13e7c905-fcc8-4b00-bc48-dc1ba644ddca",
   "metadata": {},
   "source": [
    "**Random Forest** for regression:"
   ]
  },
  {
   "cell_type": "code",
   "execution_count": null,
   "id": "64a00f27-fffd-4b01-839b-713769b6bca4",
   "metadata": {},
   "outputs": [],
   "source": [
    "# EXAMPLE CODE: COMMENT OUT THIS CODE CELL AFTER IMPLEMENTING YOUR CODE BELOW\n",
    "# Code from: https://scikit-learn.org/stable/modules/generated/sklearn.ensemble.RandomForestRegressor.html\n",
    "# Regression\n",
    "\n",
    "from sklearn.ensemble import RandomForestRegressor\n",
    "from sklearn.datasets import make_regression\n",
    "X, y = make_regression(n_features=4, n_informative=2, random_state=0, shuffle=False)\n",
    "\n",
    "regr = RandomForestRegressor(max_depth=2, random_state=0)\n",
    "\n",
    "regr.fit(X, y)\n",
    "\n",
    "print(regr.predict([[0, 0, 0, 0]]))"
   ]
  },
  {
   "cell_type": "markdown",
   "id": "36f03d51-a57b-4ba2-96e8-3872b1dff3bf",
   "metadata": {},
   "source": [
    "<div class=\"alert alert-danger\">\n",
    "    <h4>WRITE CODE</h4>\n",
    "    In the cell below, write the code that implements a Random Forest Classifier.\n",
    "</div>"
   ]
  },
  {
   "cell_type": "code",
   "execution_count": null,
   "id": "e682a15b-88ef-42f1-bd3b-7846fdafaf4b",
   "metadata": {},
   "outputs": [],
   "source": [
    "# YOUR CODE IN THIS CELL\n",
    "raise NotImplementedError() # Remove this after you have started implementing your code below\n",
    "\n",
    "# Train the model\n",
    "\n",
    "# Evaluate the model\n"
   ]
  },
  {
   "cell_type": "markdown",
   "id": "89880302-4f63-4438-be94-53416166a37c",
   "metadata": {
    "tags": []
   },
   "source": [
    "## Task: Voting Ensemble   (10 Marks)\n",
    "\n",
    "A **Voting Ensemble** classifier \"*combine conceptually different machine learning classifiers and use a majority vote (hard vote) or the average predicted probabilities (soft vote) to predict the class labels*\". \"*In his highly influential Society of Mind theory, Marvin Minsky proposes that human minds are constructed from an ensemble of agents*\" (from \"**AI: A Modern Approach**\" pg. 434, 3rd ed.).\n",
    "\n",
    "From https://scikit-learn.org/stable/modules/ensemble.html#voting-classifier:\n",
    "> *The idea behind the VotingClassifier is to combine conceptually different machine learning classifiers and use a majority vote or the average predicted probabilities (soft vote) to predict the class labels. Such a classifier can be useful for a set of equally well performing model in order to balance out their individual weaknesses.The idea behind the VotingClassifier is to combine conceptually different machine learning classifiers and use a majority vote or the average predicted probabilities (soft vote) to predict the class labels. Such a classifier can be useful for a set of equally well performing model in order to balance out their individual weaknesses.*\n",
    "\n",
    "Using **scikit-learn**, create two **Voting Ensemble Classifiers** (*hard voting* and *soft voting*) consisting of the following models:\n",
    "* SVM classifier\n",
    "* Decision Tree classifier\n",
    "* Random Forest classifier\n",
    "\n",
    "Use the default parameters for both *hard voting* and *soft voting* classifiers.\n",
    "\n",
    "Code examples for implementing a **Voting Ensemble Classifier** is [here](https://scikit-learn.org/stable/modules/ensemble.html#voting-classifier).\\\n",
    "API information on **Voting Ensemble Classifiers** is [here](https://scikit-learn.org/stable/modules/generated/sklearn.ensemble.VotingClassifier.html#sklearn.ensemble.VotingClassifier)."
   ]
  },
  {
   "cell_type": "code",
   "execution_count": null,
   "id": "ccd90891-aa2d-42d6-9f2b-99f2aba7fd8c",
   "metadata": {},
   "outputs": [],
   "source": [
    "# EXAMPLE CODE: COMMENT OUT THIS CODE CELL AFTER IMPLEMENTING YOUR CODE BELOW\n",
    "# Code from:  https://scikit-learn.org/stable/modules/ensemble.html#voting-classifier\n",
    "\n",
    "from sklearn import datasets\n",
    "from sklearn.tree import DecisionTreeClassifier\n",
    "from sklearn.neighbors import KNeighborsClassifier\n",
    "from sklearn.svm import SVC\n",
    "from itertools import product\n",
    "from sklearn.ensemble import VotingClassifier\n",
    "\n",
    "# Load some example data\n",
    "iris = datasets.load_iris()\n",
    "X = iris.data[:, [0, 2]]\n",
    "y = iris.target\n",
    "\n",
    "# Training classifiers\n",
    "clf1 = DecisionTreeClassifier(max_depth=4)\n",
    "clf2 = KNeighborsClassifier(n_neighbors=7)\n",
    "clf3 = SVC(kernel='rbf', probability=True)\n",
    "\n",
    "# The Ensemble classifier\n",
    "# 'estimator' is another name for 'model' or 'learner'\n",
    "eclf = VotingClassifier(estimators=[('dt', clf1), ('knn', clf2), ('svc', clf3)],\n",
    "                        voting='soft',\n",
    "                        weights=[2, 1, 2])\n",
    "\n",
    "# train the individual classifiers first\n",
    "clf1 = clf1.fit(X, y)\n",
    "clf2 = clf2.fit(X, y)\n",
    "clf3 = clf3.fit(X, y)\n",
    "# then train the ensemble of the trained classifiers (clf1, clf2, & clf3)\n",
    "eclf = eclf.fit(X, y)\n",
    "\n",
    "# make predictions\n",
    "print(\"Ensemble classifier's predictions:\\n\", eclf.predict(X))\n",
    "print(\"\\nThe resulting dimensions of the Ensemble classifier:\", eclf.transform(X).shape)"
   ]
  },
  {
   "cell_type": "markdown",
   "id": "7ae8d8d4-b7c0-4b45-bb6b-2716f9304d24",
   "metadata": {},
   "source": [
    "A **Voting Ensemble** example for regression is [found here](https://scikit-learn.org/stable/modules/ensemble.html#voting-regressor)."
   ]
  },
  {
   "cell_type": "code",
   "execution_count": null,
   "id": "6fd82000-bbc5-4fa0-b41b-5d62c1907f6e",
   "metadata": {},
   "outputs": [],
   "source": [
    "# EXAMPLE CODE: COMMENT OUT THIS CODE CELL AFTER IMPLEMENTING YOUR CODE BELOW\n",
    "# Code from:  https://scikit-learn.org/stable/modules/ensemble.html#voting-regressor\n",
    "\n",
    "from sklearn.datasets import load_diabetes\n",
    "from sklearn.ensemble import GradientBoostingRegressor\n",
    "from sklearn.ensemble import RandomForestRegressor\n",
    "from sklearn.linear_model import LinearRegression\n",
    "from sklearn.ensemble import VotingRegressor\n",
    "\n",
    "# Loading some example data\n",
    "X, y = load_diabetes(return_X_y=True)\n",
    "\n",
    "# Training individual models\n",
    "reg1 = GradientBoostingRegressor(random_state=1)\n",
    "reg2 = RandomForestRegressor(random_state=1)\n",
    "reg3 = LinearRegression()\n",
    "\n",
    "# create an ensemble from the individual models\n",
    "ereg = VotingRegressor(estimators=[('gb', reg1), ('rf', reg2), ('lr', reg3)])\n",
    "\n",
    "ereg = ereg.fit(X, y)"
   ]
  },
  {
   "cell_type": "markdown",
   "id": "fead89e2-b8a8-4fc5-b1b3-812c890b2ab3",
   "metadata": {},
   "source": [
    "<div class=\"alert alert-danger\">\n",
    "    <h4>WRITE CODE</h4>\n",
    "    In the cell below, write the code that implements a Voting Ensemble classifier.\n",
    "</div>"
   ]
  },
  {
   "cell_type": "code",
   "execution_count": null,
   "id": "d20168e1-9721-47c3-8854-aeb5876abee7",
   "metadata": {},
   "outputs": [],
   "source": [
    "# YOUR CODE IN THIS CELL\n",
    "raise NotImplementedError() # Remove this after you have started implementing your code below\n",
    "\n",
    "# Train the model\n",
    "\n",
    "\n",
    "# Evaluate the model\n",
    "\n"
   ]
  },
  {
   "cell_type": "markdown",
   "id": "77267031-08c9-4a52-a44c-853c94e11f06",
   "metadata": {
    "jp-MarkdownHeadingCollapsed": true,
    "tags": []
   },
   "source": [
    "----\n",
    "## Task: Neural Network   (5 Marks)\n",
    "\n",
    "Build a *neural network* to identify toxic comments.\n",
    "\n",
    "Note we will be building a *very superficial* neural network model.\\\n",
    "For those interested in learning more, please take **CMPT 410** (Machine Learning) and/or **CMPT 418** (Deep Learning).\n",
    "\n",
    "<!--\n",
    "A [reference tutorial from Google](https://developers.google.com/machine-learning/guides/text-classification/) provides an overview of a text classification workflow\\\n",
    "![](https://developers.google.com/machine-learning/guides/text-classification/images/TextClassificationFlowchart.png).\n",
    "-->\n",
    "\n",
    "The example below uses an existing (*already trained*) model downloaded from **Tensorflow**'s **Hub**.\n"
   ]
  },
  {
   "cell_type": "code",
   "execution_count": null,
   "id": "a9db17d7-1593-4fc5-b3d2-40d06bc21f5d",
   "metadata": {},
   "outputs": [],
   "source": [
    "# EXAMPLE CODE: COMMENT OUT THIS CODE CELL AFTER IMPLEMENTING YOUR CODE BELOW\n",
    "# from   https://www.tensorflow.org/tutorials/keras/text_classification_with_hub\n",
    "\n",
    "import os\n",
    "import numpy as np\n",
    "import tensorflow as tf\n",
    "import tensorflow_hub as hub\n",
    "import tensorflow_datasets as tfds\n",
    "\n",
    "\n",
    "########################\n",
    "### SET UP THE DATASET\n",
    "########################\n",
    "\n",
    "# Uses the IMDB Movie Reviews dataset\n",
    "# Split the training set into 60% and 40% to get\n",
    "#     15,000 training examples\n",
    "#     10,000 examples for validation\n",
    "#     25,000 testing examples\n",
    "train_data, validation_data, test_data = tfds.load( name=\"imdb_reviews\", \n",
    "    split=('train[:60%]', 'train[60%:]', 'test'),\n",
    "    as_supervised=True)\n",
    "\n",
    "train_examples_batch, train_labels_batch = next(iter(train_data.batch(10)))\n",
    "\n",
    "# print first 10 examples\n",
    "print(train_examples_batch)\n",
    "# print the first 10 labels\n",
    "train_labels_batch\n",
    "\n",
    "\n",
    "####################################\n",
    "### SET UP THE NEURAL NETWORK MODEL\n",
    "####################################\n",
    "\n",
    "# create a Keras layer that uses a TensorFlow Hub model to embed the sentences\n",
    "embedding = \"https://tfhub.dev/google/nnlm-en-dim50/2\"\n",
    "hub_layer = hub.KerasLayer(embedding, input_shape=[], dtype=tf.string, trainable=True)\n",
    "hub_layer(train_examples_batch[:3])\n",
    "\n",
    "# build the full model\n",
    "model = tf.keras.Sequential()\n",
    "model.add(hub_layer)\n",
    "model.add(tf.keras.layers.Dense(16, activation='relu'))\n",
    "model.add(tf.keras.layers.Dense(1))\n",
    "\n",
    "model.summary()\n",
    "\n",
    "# configure the model to use an optimizer and a loss function\n",
    "model.compile(optimizer='adam',\n",
    "              loss=tf.keras.losses.BinaryCrossentropy(from_logits=True),\n",
    "              metrics=['accuracy'])\n",
    "\n",
    "\n",
    "####################################\n",
    "### TRAIN THE NEURAL NETWORK MODEL\n",
    "####################################\n",
    "\n",
    "# Train the model for 10 epochs in mini-batches of 512 samples\n",
    "# This is 10 iterations (epochs) over all samples in the x_train and y_train tensors\n",
    "# While training, monitor the model's loss and accuracy on the 10,000 samples from the validation set\n",
    "history = model.fit(train_data.shuffle(10000).batch(512),\n",
    "                    epochs=10,\n",
    "                    validation_data=validation_data.batch(512),\n",
    "                    verbose=1)\n",
    "\n",
    "\n",
    "######################################\n",
    "### EVALUATE THE NEURAL NETWORK MODEL\n",
    "######################################\n",
    "\n",
    "# Evaluate the model\n",
    "# Two values will be returned:\n",
    "#    Loss (a number which represents our error, lower values are better)\n",
    "#    Accuracy\n",
    "results = model.evaluate(test_data.batch(512), verbose=2)\n",
    "for name, value in zip(model.metrics_names, results):\n",
    "    print(\"%s: %.3f\" % (name, value))"
   ]
  },
  {
   "cell_type": "markdown",
   "id": "b0a32125-fb29-465f-bc1a-094f39b4f6f9",
   "metadata": {},
   "source": [
    "<div class=\"alert alert-danger\">\n",
    "    <h4>WRITE CODE</h4>\n",
    "    In the cell below, write the code that implements a Neural Network.\n",
    "</div>"
   ]
  },
  {
   "cell_type": "code",
   "execution_count": null,
   "id": "89211ebe-e5d2-4692-8619-a4c8618357d3",
   "metadata": {},
   "outputs": [],
   "source": [
    "# YOUR CODE IN THIS CELL\n",
    "raise NotImplementedError() # Remove this after you have started implementing your code below\n",
    "\n",
    "\n",
    "# Train the model\n",
    "\n",
    "\n",
    "# Evaluate the model\n",
    "\n"
   ]
  },
  {
   "cell_type": "markdown",
   "id": "aeb38b6e-66d2-487f-8b28-fe4a5397a172",
   "metadata": {
    "jp-MarkdownHeadingCollapsed": true,
    "tags": []
   },
   "source": [
    "----\n",
    "## Task: Naive Bayes Classifier   (5 Marks)\n",
    "\n",
    "Build a **Naive Bayes classifier** to identify toxic comments."
   ]
  },
  {
   "cell_type": "code",
   "execution_count": null,
   "id": "7d35b722-5c89-479f-b75b-c6835db33a5d",
   "metadata": {},
   "outputs": [],
   "source": [
    "# EXAMPLE CODE: COMMENT OUT THIS CODE CELL AFTER IMPLEMENTING YOUR CODE BELOW\n",
    "# Code from:  https://scikit-learn.org/stable/modules/naive_bayes.html#gaussian-naive-bayes\n",
    "\n",
    "import numpy as np\n",
    "from sklearn.naive_bayes import GaussianNB\n",
    "\n",
    "X = np.array([[-1, -1], [-2, -1], [-3, -2], [1, 1], [2, 1], [3, 2]])\n",
    "Y = np.array([1, 1, 1, 2, 2, 2])\n",
    "\n",
    "clf = GaussianNB()\n",
    "clf.fit(X, Y)\n",
    "\n",
    "print(clf.predict([[-0.8, -1]]))\n",
    "\n",
    "clf_pf = GaussianNB()\n",
    "clf_pf.partial_fit(X, Y, np.unique(Y))\n",
    "\n",
    "print(clf_pf.predict([[-0.8, -1]]))"
   ]
  },
  {
   "cell_type": "markdown",
   "id": "b4753557-4871-4dca-ad24-9b751332bff7",
   "metadata": {},
   "source": [
    "### Regression (Linear Model)\n",
    "\n",
    "For regression, use a **Linear Regression** model instead of *Naive Bayes*.\\\n",
    "A succinct overview of using a [linear model to detect diabetes](https://scikit-learn.org/stable/auto_examples/linear_model/plot_ols.html#sphx-glr-auto-examples-linear-model-plot-ols-py) provides a good explanation of an end-to-end experimental workflow."
   ]
  },
  {
   "cell_type": "code",
   "execution_count": null,
   "id": "b1867806-8b86-4704-8216-79b44569a1a6",
   "metadata": {},
   "outputs": [],
   "source": [
    "# EXAMPLE CODE: COMMENT OUT THIS CODE CELL AFTER IMPLEMENTING YOUR CODE BELOW\n",
    "# Code from:  https://scikit-learn.org/stable/modules/linear_model.html\n",
    "\n",
    "from sklearn import linear_model\n",
    "\n",
    "reg = linear_model.LinearRegression()\n",
    "\n",
    "# train the model with data\n",
    "reg.fit([[0, 0], [1, 1], [2, 2]],\n",
    "        [0, 1, 2])\n",
    "\n",
    "# make predictions\n",
    "prediction = reg.predict([[-0.8, -1]])\n",
    "print(\"Prediction:\", prediction)"
   ]
  },
  {
   "cell_type": "markdown",
   "id": "5cf1896d-f3c0-48e1-a640-6f3ee19e471d",
   "metadata": {},
   "source": [
    "<div class=\"alert alert-danger\">\n",
    "    <h4>WRITE CODE</h4>\n",
    "    In the cell below, write the code that implements a Naive Bayes Classifier.\n",
    "</div>"
   ]
  },
  {
   "cell_type": "code",
   "execution_count": null,
   "id": "48248840-0218-4df6-be5e-a6726206a3b9",
   "metadata": {},
   "outputs": [],
   "source": [
    "# YOUR CODE IN THIS CELL\n",
    "raise NotImplementedError() # Remove this after you have started implementing your code below\n",
    "\n",
    "# Train the model\n",
    "\n",
    "\n",
    "# Evaluate the model\n",
    "\n"
   ]
  },
  {
   "cell_type": "markdown",
   "id": "4dfbb7f7-1b5f-43c0-97ae-47d7813851c0",
   "metadata": {
    "jp-MarkdownHeadingCollapsed": true,
    "tags": []
   },
   "source": [
    "## Task: Evaluation   (10 Marks)\n",
    "\n",
    "The following classification models are to be evaluated (default parameters can be used in both models):\n",
    "* [Gaussian Naive Bayes classifier](https://scikit-learn.org/stable/modules/naive_bayes.html#gaussian-naive-bayes) \n",
    "* [Decision Tree classifier](https://scikit-learn.org/stable/modules/tree.html#classification)\n",
    "* SVM classifier\n",
    "* Tri-gram Language Model\n",
    "* Neural Network classifier\n",
    "* Random Forest classifier\n",
    "* Ensemble Model classifier\n",
    "\n",
    "Models will be *trained* on the **training data**.\\\n",
    "Models will be *evaluated* on the **test data**.\n",
    "\n",
    "<font color=red>**TBD**.<font color=black> The below is *not* the final evaluation method but the one used in the **Kaggle** competition.\n",
    "\n",
    "<font color=lightgray>\n",
    "\n",
    "The evaluation description for the original **Idenifying Toxic Comments** task needs to be updated.\n",
    "    \n",
    "> Submissions are evaluated on the **mean column-wise ROC AUC**.\\\n",
    "> In other words, the score is the **average of the individual AUCs of each predicted column**.\n",
    "> \n",
    "> **Submission File**\n",
    "> \n",
    "> For each id in the test set, you must predict a probability for each of the six possible types of comment toxicity (*toxic, severetoxic, obscene, threat, insult, identityhate*). The columns must be in the same order as shown below. The file should contain a header and have the following format:\n",
    "> \n",
    "> \t\tid,toxic,severe_toxic,obscene,threat,insult,identity_hate\n",
    "> \t\t00001cee341fdb12,0.5,0.5,0.5,0.5,0.5,0.5\n",
    "> \t\t0000247867823ef7,0.5,0.5,0.5,0.5,0.5,0.5\n",
    "> \t\t...\n",
    "> \t\tetc.\n",
    "\n",
    "    \n",
    "<font color=black>\n",
    "\n",
    "### How To Evaluate A Machine Learning Model\n",
    "\n",
    "We will assign a toxicity score to two comments where one of the comments are determined by humans to be more toxic than the other comment.\n",
    "The performance of a model is measured by how many of the comment pairs agree with human rankings.\n",
    "\n",
    "For example, **Comment 1** (from `validation_data.csv`) is given a score of 1.65 &\n",
    "**Comment 2** is given a score of 76, resulting in **Comment 2** being more toxic than **Comment 1**. If this matches the human assessment then we score 1/1. If not, then the score is 0/1.\n",
    "    \n",
    "From the [task's description on **Kaggle**](https://www.kaggle.com/c/jigsaw-toxic-severity-rating/overview/evaluation):\n",
    "> *For each of the approximately 200,000 pair ratings in the ground truth test data, we use your predicted toxicity score to rank the comment pair. The pair receives a 1 if this ranking matches the annotator ranking, or 0 if it does not match.*\n",
    "    \n",
    "The data used in the evaluation comes from `validation_data.csv`."
   ]
  },
  {
   "cell_type": "code",
   "execution_count": null,
   "id": "54821a58-ea33-47f7-a3be-28ed15357a8c",
   "metadata": {},
   "outputs": [],
   "source": [
    "# EXAMPLE CODE: COMMENT OUT THIS CODE CELL AFTER IMPLEMENTING YOUR CODE BELOW\n",
    "\n",
    "# keep track of how many comment pairs we correctly rank\n",
    "total_correct_comment_pair_rankings = 0\n",
    "\n",
    "# get next pair of comments from validation_data.csv\n",
    "# NOTE: comment1 is from the column corresponding to \"LESS TOXIC\"\n",
    "#       comment2 is from the column corresponding to \"MORE TOXIC\"\n",
    "comment1 = \"Comment from Wikipedia! (less toxic comment)\"\n",
    "comment2 = \"ANOTHER Comment from Wikipedia! Swear word: bA$$ (more toxic comment)\"\n",
    "\n",
    "# convert the comment's text into a feature vector e.g., [0, 0, 2.51, 1, ...]\n",
    "comment1_features = extract_features(comment1)\n",
    "comment2_features = extract_features(comment2)\n",
    "\n",
    "# compute the toxicity score of each comment\n",
    "toxicicity_score_of_comment1 = some_model.predict(comment1_features)\n",
    "toxicicity_score_of_comment2 = some_model.predict(comment2_features)\n",
    "\n",
    "if toxicicity_score_of_comment2 > toxicicity_score_of_comment1:\n",
    "    total_correct_comment_pair_rankings = total_correct_comment_pair_rankings + 1"
   ]
  },
  {
   "cell_type": "markdown",
   "id": "a53c5afb-aed8-4287-b637-227c85e004d4",
   "metadata": {},
   "source": [
    "<div class=\"alert alert-danger\">\n",
    "    <h4>WRITE CODE</h4>\n",
    "    In the cell below, write the code for evaluating a model.\n",
    "</div>"
   ]
  },
  {
   "cell_type": "code",
   "execution_count": null,
   "id": "3b746513-cfa0-4cd6-847b-b2d301e4d57c",
   "metadata": {},
   "outputs": [],
   "source": [
    "# YOUR CODE IN THIS CELL\n",
    "raise NotImplementedError() # Remove this after you have started implementing your code below"
   ]
  },
  {
   "cell_type": "markdown",
   "id": "2e17568c-6bc9-4f8b-af7c-a5e0745a569c",
   "metadata": {
    "tags": []
   },
   "source": [
    "----\n",
    "# Task: Project Report   \n",
    "\n",
    "The total marks for all of the sections below is **80 Marks**.\n",
    "\n",
    "This section corresponds to the write-up of the project. Your write-up is to be included within this **Jupyter Notebook** below (the code for this assignment is in the code cells above).\\\n",
    "The **Project Report** will consist of a few sections that each discuss a different stage of the end-to-end experiment."
   ]
  },
  {
   "cell_type": "markdown",
   "id": "3a7cdacf-58cd-4226-b9d0-f5081a9d196f",
   "metadata": {
    "tags": []
   },
   "source": [
    "## Overview    (5 Marks)\n",
    "\n",
    "Discuss:\n",
    "* the problem/task you are addressing\n",
    "* provide concrete examples of the problem\n",
    "* why the problem is worth the time and effort trying to solve\n",
    "* compare the task with other tasks that are similar\n",
    "\n",
    "The following are optional:\n",
    "* *Related Work* i.e., what have other people tried\n",
    "* historical background of the problem\n",
    "* discuss strategies used in other tasks that are similar to **Toxic Comment Identification**\n",
    "* discuss the differences with those tasks that are similar to **Toxic Comment Identification**"
   ]
  },
  {
   "cell_type": "markdown",
   "id": "31d3cf30-88c1-4bac-b854-ee03add22f8f",
   "metadata": {
    "tags": []
   },
   "source": [
    "## Dataset    (5 Marks)\n",
    "\n",
    "Discuss:\n",
    "* the dataset's size\n",
    "* languages dataset contains\n",
    "* anything unusual about the data\n",
    "* how representative the dataset is of everyday communication\n",
    "* etc."
   ]
  },
  {
   "cell_type": "markdown",
   "id": "6dbcaf12-1c62-4a31-a18b-8d4036f17590",
   "metadata": {
    "tags": []
   },
   "source": [
    "## Features    (5 Marks)\n",
    "\n",
    "Discuss:\n",
    "* the features that were extracted\n",
    "* the number of features"
   ]
  },
  {
   "cell_type": "markdown",
   "id": "6fa3979f-0844-4cc9-9029-0bae2e1af800",
   "metadata": {
    "tags": []
   },
   "source": [
    "## Models    (5 Marks)\n",
    "\n",
    "Discuss:\n",
    "* the models used\n",
    "* any specific parameters, configuration, or settings of each model\n",
    "* any differences in how each model was trained"
   ]
  },
  {
   "cell_type": "markdown",
   "id": "da6adfef-dd91-4803-b341-fae364ee2370",
   "metadata": {
    "tags": []
   },
   "source": [
    "## Evaluation    (5 Marks)\n",
    "\n",
    "This section discusses:\n",
    "* how you evaluated the models in order to compare their relative performance\n",
    "* evaluating models based on *overall performance*\n",
    "* use visuals, tables, charts, graphs, etc. to communicate results"
   ]
  },
  {
   "cell_type": "markdown",
   "id": "baf8ed7f-317d-4778-8ac9-96ca60248877",
   "metadata": {
    "tags": []
   },
   "source": [
    "## Discussion    (15 Marks)\n",
    " \n",
    "Compare the performance of the above models on **Identifying Toxic Comments**.\\\n",
    "Use visuals, charts, graphs, etc. to communicate your results.\n",
    "\n",
    "Discuss:\n",
    "* your findings in general\n",
    "* compare the performance of the various models (was the performance what you expected?)\n",
    "* which system performed best? why?\n",
    "* which system had the worst performance? why?\n",
    "* discuss the reasons which lead to the results from the evaluation\n",
    "* provide some ideas you would like to have tried (provided you had more time or resources) that could potentially improve the performance of the models or a question that you were interested in exploring (i.e., *Future Work*)"
   ]
  },
  {
   "cell_type": "markdown",
   "id": "72dbea51-7f7a-4e75-9d1c-2ce85f3f9ff5",
   "metadata": {
    "tags": []
   },
   "source": [
    "### Plotting & Visualizations\n",
    "\n",
    "Examples of various plots and visualizations."
   ]
  },
  {
   "cell_type": "code",
   "execution_count": null,
   "id": "bd0b520c-2c0b-43cf-9487-ce93fe4a5c97",
   "metadata": {},
   "outputs": [],
   "source": [
    "# EXAMPLE CODE: COMMENT OUT THIS CODE CELL AFTER IMPLEMENTING YOUR CODE BELOW\n",
    "\n",
    "# TODO add example visuals\n",
    "\n",
    "import seaborn\n",
    "\n",
    "# Load example miles per gallon dataset\n",
    "mpg = seaborn.load_dataset(\"mpg\")\n",
    "\n",
    "# Plot miles per gallon against horsepower\n",
    "seaborn.relplot(x=\"horsepower\", y=\"mpg\", hue=\"origin\", size=\"weight\", sizes=(40, 400), alpha=0.4, data=mpg)\n",
    "\n",
    "# Display joint distribution of the features\n",
    "seaborn.pairplot(mpg, diag_kind='kde')"
   ]
  },
  {
   "cell_type": "markdown",
   "id": "0dac2106-1c27-468d-99d7-299992efc546",
   "metadata": {},
   "source": [
    "<div class=\"alert alert-danger\">\n",
    "    <h1>YOUR PROJECT REPORT BEGINS BELOW THIS CELL</h1>\n",
    "</div>"
   ]
  },
  {
   "attachments": {},
   "cell_type": "markdown",
   "id": "6649d70c-a699-4246-b5c1-751abf71a6ce",
   "metadata": {},
   "source": [
    "**INFORMATION**\\\n",
    "Student Name: *Santiago Hoyos*\\\n",
    "Student ID: *300206343*\\\n",
    "Student SFU Email: *santiago.hoyos@student.ufv.ca*\n",
    "\n",
    "# Overview\n",
    "\n",
    "This project aims to perform sentiment analysis on a large dataset of Yelp reviews using natural language processing techniques. \n",
    "\n",
    "I am interested in understanding how people perceive different businesses and locations based on their reviews. By analyzing the sentiment of the reviews, you can identify patterns and trends in people's opinions and experiences, and gain insights into what factors drive positive or negative reviews. For example, you may find that people tend to give positive reviews to businesses that offer good customer service or have a friendly atmosphere, while negative reviews may be driven by factors such as poor quality of food or service.\n",
    "\n",
    "Moreover, the project can be extended to include feature extraction techniques to identify key topics or themes mentioned in the reviews, such as food, service, ambiance, and location. By analyzing the frequency and sentiment of these topics across different businesses and locations, you can gain a deeper understanding of what aspects of a business or location are most important to people and how they influence overall customer satisfaction.\n",
    "\n",
    "Overall, this project can provide valuable insights into people's opinions and experiences with businesses and locations, which can be useful for businesses, policymakers, and researchers alike."
   ]
  },
  {
   "attachments": {},
   "cell_type": "markdown",
   "id": "661b9913-05e0-4115-be2c-f7ed21fe049f",
   "metadata": {},
   "source": [
    "# Dataset\n",
    "\n",
    "The Yelp dataset is a large dataset of customer reviews from Yelp, a popular online platform for businesses and customers to connect. The Yelp dataset contains over 7 million reviews from various businesses and locations, making it a rich source of information about people's opinions and experiences. The dataset also includes information about the businesses, such as their location, category, and other attributes. In addition, the dataset contains user profiles, including their name, location, and other demographic information. The dataset can be found in their website: https://www.yelp.com/dataset\n",
    "\n",
    "Each review in the dataset includes the text of the review, as well as the star rating given by the user, ranging from 1 to 5 stars. The text of the reviews is preprocessed, including removing stop words.\n",
    "\n",
    "The dataset is provided in JSON format, with separate files for reviews, businesses, and user profiles. The dataset is quite large, with a total size of over 4 GB"
   ]
  },
  {
   "cell_type": "markdown",
   "id": "6c309297-f6a7-4b7f-a15e-5dde113f3733",
   "metadata": {},
   "source": [
    "# Features\n",
    "\n",
    "*Your text here.*"
   ]
  },
  {
   "cell_type": "code",
   "execution_count": 11,
   "id": "a659737f",
   "metadata": {},
   "outputs": [
    {
     "name": "stderr",
     "output_type": "stream",
     "text": [
      "[nltk_data] Downloading package stopwords to C:\\Users\\Hoyos\n",
      "[nltk_data]     O\\AppData\\Roaming\\nltk_data...\n",
      "[nltk_data]   Package stopwords is already up-to-date!\n",
      "[nltk_data] Downloading package vader_lexicon to C:\\Users\\Hoyos\n",
      "[nltk_data]     O\\AppData\\Roaming\\nltk_data...\n",
      "[nltk_data]   Package vader_lexicon is already up-to-date!\n"
     ]
    },
    {
     "data": {
      "text/plain": [
       "True"
      ]
     },
     "execution_count": 11,
     "metadata": {},
     "output_type": "execute_result"
    }
   ],
   "source": [
    "import pandas as pd\n",
    "import nltk\n",
    "nltk.download('stopwords')\n",
    "\n",
    "from nltk.corpus import stopwords\n",
    "stop_words = set(stopwords.words('english'))\n",
    "\n",
    "from nltk.tokenize import word_tokenize\n",
    "from nltk.sentiment import SentimentIntensityAnalyzer\n",
    "from nltk.probability import FreqDist\n",
    "\n",
    "from collections import Counter\n",
    "import json\n",
    "import string\n",
    "nltk.download('vader_lexicon')"
   ]
  },
  {
   "cell_type": "code",
   "execution_count": 12,
   "id": "3c51cb28",
   "metadata": {},
   "outputs": [
    {
     "name": "stdout",
     "output_type": "stream",
     "text": [
      "Top 20 most common words:\n",
      "food: 4858\n",
      "place: 4840\n",
      "good: 4745\n",
      "great: 3811\n",
      "time: 3051\n",
      "like: 2990\n",
      "get: 2867\n",
      "would: 2802\n",
      "service: 2791\n",
      "back: 2721\n",
      "one: 2603\n",
      "go: 2478\n",
      "really: 2163\n",
      "Punctuation usage: Counter({'.': 74151, ',': 35975, \"'\": 19023, '!': 12537, '-': 7063, ')': 4055, '(': 3779, '\"': 3130, ':': 1667, '$': 1569, '?': 1567, '/': 1439, '&': 1004, ';': 576, '*': 300, '+': 200, '%': 171, '#': 88, '=': 71, '_': 41, '~': 33, '[': 31, ']': 31, '@': 27, '\\\\': 3, '^': 2, '}': 1, '`': 1})\n",
      "Sentiment labels: positive    8776\n",
      "negative    1224\n",
      "Name: sentiment_label, dtype: int64\n"
     ]
    },
    {
     "name": "stderr",
     "output_type": "stream",
     "text": [
      "[nltk_data] Downloading package averaged_perceptron_tagger to\n",
      "[nltk_data]     C:\\Users\\Hoyos O\\AppData\\Roaming\\nltk_data...\n",
      "[nltk_data]   Package averaged_perceptron_tagger is already up-to-\n",
      "[nltk_data]       date!\n",
      "[nltk_data] Downloading package maxent_ne_chunker to C:\\Users\\Hoyos\n",
      "[nltk_data]     O\\AppData\\Roaming\\nltk_data...\n",
      "[nltk_data]   Package maxent_ne_chunker is already up-to-date!\n",
      "[nltk_data] Downloading package words to C:\\Users\\Hoyos\n",
      "[nltk_data]     O\\AppData\\Roaming\\nltk_data...\n",
      "[nltk_data]   Package words is already up-to-date!\n"
     ]
    },
    {
     "name": "stdout",
     "output_type": "stream",
     "text": [
      "Most common named entities: [('Great', 889), ('Food', 355), ('Service', 257), ('French', 219), ('Italian', 216), ('Nashville', 189), ('Mexican', 187), ('New Orleans', 177), ('Philly', 168), ('BBQ', 161)]\n",
      "Most common nouns: [('food', 4858), ('place', 4787), ('time', 3051), ('service', 2782), ('order', 1505), ('staff', 1475), ('restaurant', 1335), ('menu', 1261), ('bar', 1097), ('experience', 1094)]\n"
     ]
    }
   ],
   "source": [
    "# Load the Yelp review dataset\n",
    "data_path = \"C:/Users/Hoyos O/Desktop/Universidad/Séptimo Semestre/Natural language processin COMP 482/Project/yelp_academic_dataset_review.json\"\n",
    "data = []\n",
    "with open(data_path, encoding='utf-8') as f:\n",
    "    for i, line in enumerate(f):\n",
    "        if i >= 10000:\n",
    "            break\n",
    "        data.append(json.loads(line))\n",
    "\n",
    "df = pd.DataFrame(data)\n",
    "\n",
    "# Tokenize the text data into words\n",
    "df['text_tokens'] = df['text'].apply(word_tokenize)\n",
    "\n",
    "# Extract the most common words\n",
    "# Get the most common words in the text data\n",
    "all_words = [word for text in df['text_tokens'] for word in text if word.isalpha() and word not in stop_words]\n",
    "word_freq = FreqDist(all_words)\n",
    "top_words = word_freq.most_common(20)\n",
    "\n",
    "# Remove stopwords and punctuation from the list of most common words\n",
    "stopwords = set(nltk.corpus.stopwords.words('english'))\n",
    "top_words = [(word, freq) for (word, freq) in top_words if word.lower() not in stopwords and word not in string.punctuation]\n",
    "\n",
    "# Print the most common words\n",
    "print(\"Top 20 most common words:\")\n",
    "for word, freq in top_words:\n",
    "    print(f\"{word}: {freq}\")\n",
    "\n",
    "# Count the frequency of different types of punctuation\n",
    "punct_freq = Counter([char for text in df['text'] for char in text if char in string.punctuation])\n",
    "print(f\"Punctuation usage: {punct_freq}\")\n",
    "\n",
    "# Use the VADER lexicon to score the sentiment of each review\n",
    "sid = SentimentIntensityAnalyzer()\n",
    "df['sentiment_scores'] = df['text'].apply(lambda x: sid.polarity_scores(x))\n",
    "df['sentiment_label'] = df['sentiment_scores'].apply(lambda x: 'positive' if x['compound'] > 0 else 'negative')\n",
    "print(f\"Sentiment labels: {df['sentiment_label'].value_counts()}\")\n",
    "\n",
    "# Use NLTK's named entity recognition functionality to identify named entities in the reviews\n",
    "nltk.download('averaged_perceptron_tagger')\n",
    "nltk.download('maxent_ne_chunker')\n",
    "nltk.download('words')\n",
    "named_entities = []\n",
    "for text in df['text']:\n",
    "    tokens = word_tokenize(text)\n",
    "    pos_tags = nltk.pos_tag(tokens)\n",
    "    chunks = nltk.ne_chunk(pos_tags)\n",
    "    for chunk in chunks:\n",
    "        if hasattr(chunk, 'label'):\n",
    "            named_entities.append(' '.join(c[0] for c in chunk))\n",
    "named_entities_freq = Counter(named_entities)\n",
    "most_common_entities = named_entities_freq.most_common(10)\n",
    "print(f\"Most common named entities: {most_common_entities}\")\n",
    "\n",
    "# Use NLTK's POS tagging functionality to identify the parts of speech in the reviews\n",
    "pos_tags = []\n",
    "for tokens in df['text_tokens']:\n",
    "    pos_tags.append(nltk.pos_tag(tokens))\n",
    "noun_freq = Counter([tag[0] for tags in pos_tags for tag in tags if tag[1] == 'NN'])\n",
    "most_common_nouns = noun_freq.most_common(10)\n",
    "print(f\"Most common nouns: {most_common_nouns}\")"
   ]
  },
  {
   "attachments": {},
   "cell_type": "markdown",
   "id": "ff91bba1",
   "metadata": {},
   "source": [
    "After analyzing a dataset of restaurant reviews, the following insights were found:\n",
    "\n",
    "    The top 5 most commonly used words are \"food\", \"place\", \"good\", \"great\", and \"time\".\n",
    "    The frequency of punctuation usage shows that the most commonly used punctuation marks are period, comma, and apostrophe.\n",
    "    When classifying reviews into sentiment labels, it was found that around 87.76% of the reviews are labeled as positive and 12.24% are negative.\n",
    "    The most common named entities found in the reviews were \"Great\", \"Food\", \"Service\", \"French\", and \"Italian\".\n",
    "    The most common nouns found in the reviews were \"food\", \"place\", \"time\", \"service\", and \"order\".\n",
    "\n",
    "Based on these results, it appears that food and place are the most talked-about aspects of the restaurant experience in the reviews, and that positive sentiment is more common than negative sentiment. The most common named entities suggest that French, Italian, Mexican, and BBQ cuisine are popular choices, and that Nashville, New Orleans, and Philly are frequently mentioned locations. Additionally, the most common nouns suggest that food, service, and time are key factors in the restaurant experience."
   ]
  },
  {
   "attachments": {},
   "cell_type": "markdown",
   "id": "3701e74d-ec62-4ef6-8781-fe01d6961d3d",
   "metadata": {},
   "source": [
    "# Models"
   ]
  },
  {
   "cell_type": "code",
   "execution_count": 2,
   "id": "e7493e94",
   "metadata": {},
   "outputs": [
    {
     "name": "stderr",
     "output_type": "stream",
     "text": [
      "[nltk_data] Downloading package stopwords to C:\\Users\\Hoyos\n",
      "[nltk_data]     O\\AppData\\Roaming\\nltk_data...\n",
      "[nltk_data]   Package stopwords is already up-to-date!\n",
      "[nltk_data] Downloading package vader_lexicon to C:\\Users\\Hoyos\n",
      "[nltk_data]     O\\AppData\\Roaming\\nltk_data...\n",
      "[nltk_data]   Package vader_lexicon is already up-to-date!\n"
     ]
    }
   ],
   "source": [
    "import pandas as pd\n",
    "import nltk\n",
    "nltk.download('stopwords')\n",
    "\n",
    "from nltk.corpus import stopwords\n",
    "stop_words = set(stopwords.words('english'))\n",
    "\n",
    "from nltk.tokenize import word_tokenize\n",
    "from nltk.sentiment import SentimentIntensityAnalyzer\n",
    "from nltk.probability import FreqDist\n",
    "\n",
    "from collections import Counter\n",
    "import json\n",
    "import string\n",
    "nltk.download('vader_lexicon')\n",
    "\n",
    "from sklearn.model_selection import train_test_split\n",
    "from sklearn.feature_extraction.text import CountVectorizer, TfidfVectorizer\n",
    "from sklearn.metrics import classification_report, confusion_matrix, accuracy_score, precision_recall_fscore_support\n",
    "from sklearn.naive_bayes import MultinomialNB\n",
    "\n",
    "import matplotlib.pyplot as plt\n",
    "import seaborn as sns"
   ]
  },
  {
   "cell_type": "code",
   "execution_count": 4,
   "id": "88f0cc69",
   "metadata": {},
   "outputs": [
    {
     "name": "stderr",
     "output_type": "stream",
     "text": [
      "c:\\Users\\Hoyos O\\AppData\\Local\\Programs\\Python\\Python39\\lib\\site-packages\\sklearn\\feature_extraction\\text.py:1380: UserWarning: Upper case characters found in vocabulary while 'lowercase' is True. These entries will not be matched with any documents\n",
      "  warnings.warn(\n"
     ]
    },
    {
     "name": "stdout",
     "output_type": "stream",
     "text": [
      "Precision: 0.94, Recall: 0.91, F1 score: 0.93\n",
      "Accuracy: 0.88\n",
      "                 Predicted Negative  Predicted Positive\n",
      "Actual Negative                 155                  93\n",
      "Actual Positive                 155                1597\n"
     ]
    },
    {
     "data": {
      "image/png": "[encoded data removed]",
      "text/plain": [
       "<Figure size 432x288 with 1 Axes>"
      ]
     },
     "metadata": {
      "needs_background": "light"
     },
     "output_type": "display_data"
    },
    {
     "data": {
      "image/png": "[encoded data removed]",
      "text/plain": [
       "<Figure size 432x288 with 1 Axes>"
      ]
     },
     "metadata": {},
     "output_type": "display_data"
    },
    {
     "data": {
      "image/png": "[encoded data removed]",
      "text/plain": [
       "<Figure size 432x288 with 1 Axes>"
      ]
     },
     "metadata": {
      "needs_background": "light"
     },
     "output_type": "display_data"
    },
    {
     "name": "stderr",
     "output_type": "stream",
     "text": [
      "c:\\Users\\Hoyos O\\AppData\\Local\\Programs\\Python\\Python39\\lib\\site-packages\\sklearn\\feature_extraction\\text.py:1380: UserWarning: Upper case characters found in vocabulary while 'lowercase' is True. These entries will not be matched with any documents\n",
      "  warnings.warn(\n"
     ]
    },
    {
     "name": "stdout",
     "output_type": "stream",
     "text": [
      "Precision: 0.95, Recall: 0.91, F1 score: 0.93\n",
      "Accuracy: 0.88\n",
      "                 Predicted Negative  Predicted Positive\n",
      "Actual Negative                1595                 890\n",
      "Actual Positive                1597               15918\n"
     ]
    },
    {
     "data": {
      "image/png": "[encoded data removed]",
      "text/plain": [
       "<Figure size 432x288 with 1 Axes>"
      ]
     },
     "metadata": {
      "needs_background": "light"
     },
     "output_type": "display_data"
    },
    {
     "data": {
      "image/png": "[encoded data removed]",
      "text/plain": [
       "<Figure size 432x288 with 1 Axes>"
      ]
     },
     "metadata": {},
     "output_type": "display_data"
    },
    {
     "data": {
      "image/png": "[encoded data removed]",
      "text/plain": [
       "<Figure size 432x288 with 1 Axes>"
      ]
     },
     "metadata": {
      "needs_background": "light"
     },
     "output_type": "display_data"
    },
    {
     "name": "stderr",
     "output_type": "stream",
     "text": [
      "c:\\Users\\Hoyos O\\AppData\\Local\\Programs\\Python\\Python39\\lib\\site-packages\\sklearn\\feature_extraction\\text.py:1380: UserWarning: Upper case characters found in vocabulary while 'lowercase' is True. These entries will not be matched with any documents\n",
      "  warnings.warn(\n"
     ]
    },
    {
     "name": "stdout",
     "output_type": "stream",
     "text": [
      "Precision: 0.94, Recall: 0.90, F1 score: 0.92\n",
      "Accuracy: 0.87\n",
      "                 Predicted Negative  Predicted Positive\n",
      "Actual Negative               19879                9251\n",
      "Actual Positive               17620              153250\n"
     ]
    },
    {
     "data": {
      "image/png": "[encoded data removed]",
      "text/plain": [
       "<Figure size 432x288 with 1 Axes>"
      ]
     },
     "metadata": {
      "needs_background": "light"
     },
     "output_type": "display_data"
    },
    {
     "data": {
      "image/png": "[encoded data removed]",
      "text/plain": [
       "<Figure size 432x288 with 1 Axes>"
      ]
     },
     "metadata": {},
     "output_type": "display_data"
    },
    {
     "data": {
      "image/png": "[encoded data removed]",
      "text/plain": [
       "<Figure size 432x288 with 1 Axes>"
      ]
     },
     "metadata": {
      "needs_background": "light"
     },
     "output_type": "display_data"
    }
   ],
   "source": [
    "# Define a function to train and evaluate the sentiment analysis model on a given number of rows\n",
    "def train_and_evaluate_model(data_path, num_rows):\n",
    "    # Load the Yelp review dataset\n",
    "    data = []\n",
    "    with open(data_path, encoding='utf-8') as f:\n",
    "        for i, line in enumerate(f):\n",
    "            if i >= num_rows:\n",
    "                break\n",
    "            data.append(json.loads(line))\n",
    "\n",
    "    df = pd.DataFrame(data)\n",
    "\n",
    "    # Tokenize the text data into words\n",
    "    df['text_tokens'] = df['text'].apply(word_tokenize)\n",
    "\n",
    "    # Extract the most common words\n",
    "    # Get the most common words in the text data\n",
    "    all_words = [word for text in df['text_tokens'] for word in text if word.isalpha() and word not in stop_words]\n",
    "    word_freq = FreqDist(all_words)\n",
    "    top_words = word_freq.most_common(2000)\n",
    "\n",
    "    # Create a vocabulary of the most common words\n",
    "    vocab = [word for (word, freq) in top_words]\n",
    "\n",
    "    # Convert the text data into a bag of words representation\n",
    "    vectorizer = CountVectorizer(vocabulary=vocab)\n",
    "    X = vectorizer.fit_transform(df['text'])\n",
    "\n",
    "    # Use the VADER lexicon to score the sentiment of each review\n",
    "    sid = SentimentIntensityAnalyzer()\n",
    "    df['sentiment_scores'] = df['text'].apply(lambda x: sid.polarity_scores(x))\n",
    "    df['sentiment_label'] = df['sentiment_scores'].apply(lambda x: 'positive' if x['compound'] > 0 else 'negative')\n",
    "\n",
    "    # Split the dataset into training and testing sets\n",
    "    X_train, X_test, y_train, y_test = train_test_split(X, df['sentiment_label'], test_size=0.2, random_state=42)\n",
    "\n",
    "    # Train a Naive Bayes classifier on the training set\n",
    "    clf = MultinomialNB()\n",
    "    clf.fit(X_train, y_train)\n",
    "\n",
    "    # Evaluate the classifier on the testing set\n",
    "    y_pred = clf.predict(X_test)\n",
    "    precision, recall, f1_score, _ = precision_recall_fscore_support(y_test, y_pred, average='binary', pos_label='positive')\n",
    "    print(f\"Precision: {precision:.2f}, Recall: {recall:.2f}, F1 score: {f1_score:.2f}\")\n",
    "\n",
    "    # Compute and print the accuracy of the classifier\n",
    "    accuracy = accuracy_score(y_test, y_pred)\n",
    "    print(f\"Accuracy: {accuracy:.2f}\")\n",
    "\n",
    "    # Create a confusion matrix to visualize the classifier's performance\n",
    "    cm = confusion_matrix(y_test, y_pred, labels=['negative', 'positive'])\n",
    "    cm_df = pd.DataFrame(cm, index=['Actual Negative', 'Actual Positive'], columns=['Predicted Negative', 'Predicted Positive'])\n",
    "    print(cm_df)\n",
    "\n",
    "    # Create a bar chart to visualize the precision, recall, and F1 score of the classifier\n",
    "\n",
    "    scores = [precision, recall, f1_score]\n",
    "    score_labels = ['Precision', 'Recall', 'F1 Score']\n",
    "    plt.bar(score_labels, scores)\n",
    "    plt.title('Performance Metrics')\n",
    "    plt.xlabel('Metric')\n",
    "    plt.ylabel('Score')\n",
    "    plt.show()\n",
    "\n",
    "    # Create a pie chart to visualize the distribution of sentiment labels in the dataset\n",
    "    label_counts = df['sentiment_label'].value_counts()\n",
    "    plt.pie(label_counts, labels=label_counts.index, autopct='%1.1f%%')\n",
    "    plt.title('Sentiment Label Distribution')\n",
    "    plt.show()\n",
    "\n",
    "    # Create a bar chart to visualize the frequency of the most common words in the dataset\n",
    "    top_word_freq = word_freq.most_common(10)\n",
    "    top_words = [word for (word, freq) in top_word_freq]\n",
    "    top_freqs = [freq for (word, freq) in top_word_freq]\n",
    "    plt.bar(top_words, top_freqs)\n",
    "    plt.title('Most Common Words')\n",
    "    plt.xlabel('Word')\n",
    "    plt.ylabel('Frequency')\n",
    "    plt.show()\n",
    "\n",
    "#Train and evaluate the sentiment analysis model on the Yelp review dataset with 10k rows\n",
    "data_path = \"C:/Users/Hoyos O/Desktop/Universidad/Séptimo Semestre/Natural language processin COMP 482/Project/yelp_academic_dataset_review.json\"\n",
    "train_and_evaluate_model(data_path, 10000)\n",
    "\n",
    "#Train and evaluate the sentiment analysis model on the Yelp review dataset with 100k rows\n",
    "train_and_evaluate_model(data_path, 100000)\n",
    "\n",
    "#Train and evaluate the sentiment analysis model on the Yelp review dataset with 1000000 rows\n",
    "train_and_evaluate_model(data_path, 1000000)"
   ]
  },
  {
   "attachments": {},
   "cell_type": "markdown",
   "id": "f4bc40af-41a6-422a-9e1a-92950cc2a7ec",
   "metadata": {},
   "source": [
    "# Conclusion \n",
    "\n",
    "\n",
    "In conclusion, this project demonstrates the application of natural language processing (NLP) techniques to perform sentiment analysis on a real-world dataset of Yelp reviews. The NLP techniques used in this project include tokenization, stop word removal, frequency distribution, named entity recognition, and parts-of-speech tagging.\n",
    "\n",
    "The project focused on extracting useful features from the Yelp review dataset to build a Naive Bayes classifier for sentiment analysis. The results show that the classifier performs well on the dataset with F1 scores ranging from 0.92 to 0.93 for different sizes of the dataset. The precision and recall scores are also high, indicating that the classifier is able to accurately identify both positive and negative reviews.\n",
    "\n",
    "Furthermore, the project highlights the importance of evaluating the performance of a model on different sizes of data. The results showed that the classifier was able to perform better as the size of the dataset increased, which emphasizes the importance of having a large and diverse dataset for training and evaluating machine learning models.\n",
    "\n",
    "In addition to performance metrics, the project also employed a variety of visualizations to help communicate the results in an easily understandable way. The visualizations produced include a bar chart of the precision, recall, and F1 score of the classifier, a pie chart of the distribution of sentiment labels in the dataset, and a bar chart of the frequency of the most common words in the dataset. These visualizations could be useful for presenting the findings of the project to a wider audience.\n",
    "\n",
    "Overall, this project provides a comprehensive example of sentiment analysis using natural language processing techniques on a real-world dataset, and demonstrates the importance of evaluating the performance of models using a variety of metrics and visualizations.\n",
    "\n",
    "Thank you.\n"
   ]
  }
 ],
 "metadata": {
  "kernelspec": {
   "display_name": "Python 3 (ipykernel)",
   "language": "python",
   "name": "python3"
  },
  "language_info": {
   "codemirror_mode": {
    "name": "ipython",
    "version": 3
   },
   "file_extension": ".py",
   "mimetype": "text/x-python",
   "name": "python",
   "nbconvert_exporter": "python",
   "pygments_lexer": "ipython3",
   "version": "3.9.4"
  }
 },
 "nbformat": 4,
 "nbformat_minor": 5
}
